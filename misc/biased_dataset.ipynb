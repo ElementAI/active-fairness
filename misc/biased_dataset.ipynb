{
 "cells": [
  {
   "cell_type": "code",
   "execution_count": 1,
   "metadata": {},
   "outputs": [
    {
     "name": "stdout",
     "output_type": "stream",
     "text": [
      "Defaulting to user installation because normal site-packages is not writeable\n",
      "Collecting pip\n",
      "  Downloading pip-21.0.1-py3-none-any.whl (1.5 MB)\n",
      "Installing collected packages: pip\n",
      "Successfully installed pip-21.0.1\n",
      "Defaulting to user installation because normal site-packages is not writeable\n",
      "Collecting synbols\n",
      "  Downloading synbols-1.0.2-py3-none-any.whl (34 kB)\n",
      "Requirement already satisfied: h5py in /usr/local/lib/python3.6/dist-packages (from synbols) (2.10.0)\n",
      "Requirement already satisfied: six in /usr/lib/python3/dist-packages (from h5py->synbols) (1.11.0)\n",
      "Requirement already satisfied: numpy>=1.7 in /usr/local/lib/python3.6/dist-packages (from h5py->synbols) (1.18.1)\n",
      "Installing collected packages: synbols\n",
      "Successfully installed synbols-1.0.2\n"
     ]
    },
    {
     "name": "stderr",
     "output_type": "stream",
     "text": [
      "  WARNING: The scripts pip, pip3 and pip3.6 are installed in '/tmp/.local/bin' which is not on PATH.\n",
      "  Consider adding this directory to PATH or, if you prefer to suppress this warning, use --no-warn-script-location.\n",
      "WARNING: You are using pip version 20.2.4; however, version 21.0.1 is available.\n",
      "You should consider upgrading via the '/usr/bin/python3 -m pip install --upgrade pip' command.\n",
      "  WARNING: The scripts synbols, synbols-datasets, synbols-jupyter and synbols-view are installed in '/tmp/.local/bin' which is not on PATH.\n",
      "  Consider adding this directory to PATH or, if you prefer to suppress this warning, use --no-warn-script-location.\n"
     ]
    }
   ],
   "source": [
    "%%bash\n",
    "pip install pip --upgrade\n",
    "pip install synbols --upgrade"
   ]
  },
  {
   "cell_type": "markdown",
   "metadata": {},
   "source": [
    "# Synbols dataset generation\n",
    "\n",
    "To run this notebook, please use the Dockerfile associated with as you need the Synbols docker image.\n"
   ]
  },
  {
   "cell_type": "code",
   "execution_count": 1,
   "metadata": {},
   "outputs": [],
   "source": [
    "import synbols\n",
    "from synbols.data_io import pack_dataset\n",
    "from synbols import generate\n",
    "from synbols import drawing\n",
    "import random\n",
    "from synbols.visualization import plot_dataset\n",
    "import matplotlib.pyplot as plt\n",
    "import pickle\n",
    "# bg = drawing.Camouflage(stroke_angle=1.)\n",
    "# bg = drawing.NoPattern()\n",
    "bg = None #drawing.MultiGradient(alpha=0.5, n_gradients=2, types=('linear', 'radial'))\n",
    "# bg = drawing.Gradient(types=('linear',), random_color=drawing.color_sampler(brightness_range=(0.1, 0.9)))\n",
    "\n",
    "fg = None #drawing.SolidColor((255, 0, 0))\n"
   ]
  },
  {
   "cell_type": "markdown",
   "metadata": {},
   "source": [
    "# Generate Minority dataset\n",
    "\n",
    "In this dataset, we keep the same ratio across classes.\n",
    "\n",
    "p(a | y=c_1) = p(a | y=c_2)"
   ]
  },
  {
   "cell_type": "code",
   "execution_count": 5,
   "metadata": {},
   "outputs": [
    {
     "name": "stderr",
     "output_type": "stream",
     "text": [
      "100%|██████████| 1000/1000 [00:12<00:00, 82.42it/s]\n"
     ]
    }
   ],
   "source": [
    "import numpy as np\n",
    "from math import pi\n",
    "from synbols import drawing\n",
    "from synbols import generate\n",
    "\n",
    "class InfoSolid(drawing.SolidColor):\n",
    "    def attribute_dict(self):\n",
    "        d = super().attribute_dict()\n",
    "        d['color'] = self.color\n",
    "        return d\n",
    "    \n",
    "rng = np.random.RandomState(1337)\n",
    "p = .1\n",
    "blue = (0,0,255)\n",
    "red = (255, 0, 0)\n",
    "\n",
    "class MinoritySampler:\n",
    "    def __init__(self, p):\n",
    "        self.p = p\n",
    "        \n",
    "    def __call__(self, seed):\n",
    "        \"\"\"Makes brightness dependent on scale and color dependant on symbol.\"\"\"\n",
    "        rng = np.random.RandomState(seed)\n",
    "        color = [blue, red][rng.choice([0, 1], p=[self.p, 1-self.p])]\n",
    "        char = rng.choice(['a', 'd'])\n",
    "\n",
    "        fg = InfoSolid(color)\n",
    "        fg.color = color\n",
    "\n",
    "        attr_sampler = generate.basic_attribute_sampler(\n",
    "            char=char, foreground=fg, background=None, inverse_color=False, resolution=(64, 64))\n",
    "        attr_sampler = generate.add_occlusion(attr_sampler, n_occlusion=1, scale=0.4)\n",
    "        d = attr_sampler()\n",
    "        return d\n",
    "\n",
    "\n",
    "def make_dataset(p, seed, num):\n",
    "    attribute_sampler = MinoritySampler(p=p)\n",
    "    x, mask, y = pack_dataset(generate.dataset_generator(attribute_sampler, num, generate.flatten_mask, dataset_seed=seed))\n",
    "\n",
    "    for yi in y:\n",
    "        yi['rotation_attr'] = 1 if  yi['rotation'] >= 0 else 0\n",
    "        yi['color'] = 'red' if yi['foreground']['color'] == red else 'blue'\n",
    "    return (x,y,y)             \n",
    "\n",
    "with open(f'/data/spurious_dataset_50000.pkl', 'wb') as f:\n",
    "        pickle.dump(make_dataset(p=0.9, seed=1000, num=100_000), f)\n",
    "        pickle.dump(make_dataset(p=0.5, seed=2000, num=10_000), f)\n",
    "        pickle.dump(make_dataset(p=0.5, seed=3000, num=10_000), f)"
   ]
  },
  {
   "cell_type": "markdown",
   "metadata": {},
   "source": [
    "# Spurious correlation dataset\n",
    "\n",
    "In this dataset, the sensitive attribute leads to spurious correlations between the color and the character."
   ]
  },
  {
   "cell_type": "code",
   "execution_count": null,
   "metadata": {},
   "outputs": [],
   "source": [
    "import numpy as np\n",
    "from math import pi\n",
    "from synbols import drawing\n",
    "from synbols import generate\n",
    "\n",
    "class InfoSolid(drawing.SolidColor):\n",
    "    def attribute_dict(self):\n",
    "        d = super().attribute_dict()\n",
    "        d['color'] = self.color\n",
    "        return d\n",
    "    \n",
    "rng = np.random.RandomState(1337)\n",
    "p = .1\n",
    "blue = (0,0,255)\n",
    "red = (255, 0, 0)\n",
    "\n",
    "class SpuriousSampler:\n",
    "    def __init__(self, p):\n",
    "        self.p = p\n",
    "        \n",
    "    def __call__(self, seed):\n",
    "        \"\"\"Makes brightness dependent on scale and color dependant on symbol.\"\"\"\n",
    "        rng = np.random.RandomState(seed)\n",
    "        color = [blue, red][rng.choice([0, 1], p=[self.p, 1-self.p])]\n",
    "        char = rng.choice(['a', 'd'])\n",
    "        color_p = {'a':self.p, 'd':1-self.p}[char]\n",
    "        color = [blue, red][rng.choice([0, 1], p=[color_p, color_p])]\n",
    "\n",
    "        fg = InfoSolid(color)\n",
    "        fg.color = color\n",
    "\n",
    "        attr_sampler = generate.basic_attribute_sampler(\n",
    "            char=char, foreground=fg, background=None, inverse_color=False, resolution=(64, 64))\n",
    "        attr_sampler = generate.add_occlusion(attr_sampler, n_occlusion=1, scale=0.4)\n",
    "        d = attr_sampler()\n",
    "        return d\n",
    "\n",
    "\n",
    "def make_dataset(p, seed, num):\n",
    "    attribute_sampler = SpuriousSampler(p=p)\n",
    "    x, mask, y = pack_dataset(generate.dataset_generator(attribute_sampler, num, generate.flatten_mask, dataset_seed=seed))\n",
    "\n",
    "    for yi in y:\n",
    "        yi['color'] = 'red' if yi['foreground']['color'] == red else 'blue'\n",
    "    return (x,y,y)             \n",
    "\n",
    "\n",
    "with open(f'/data/spurious_dataset_50000.pkl', 'wb') as f:\n",
    "        pickle.dump(make_dataset(p=0.9, seed=1000, num=100_000), f)\n",
    "        pickle.dump(make_dataset(p=0.5, seed=2000, num=10_000), f)\n",
    "        pickle.dump(make_dataset(p=0.5, seed=3000, num=10_000), f)"
   ]
  }
 ],
 "metadata": {
  "kernelspec": {
   "display_name": "Python 3",
   "language": "python",
   "name": "python3"
  },
  "language_info": {
   "codemirror_mode": {
    "name": "ipython",
    "version": 3
   },
   "file_extension": ".py",
   "mimetype": "text/x-python",
   "name": "python",
   "nbconvert_exporter": "python",
   "pygments_lexer": "ipython3",
   "version": "3.6.9"
  }
 },
 "nbformat": 4,
 "nbformat_minor": 4
}